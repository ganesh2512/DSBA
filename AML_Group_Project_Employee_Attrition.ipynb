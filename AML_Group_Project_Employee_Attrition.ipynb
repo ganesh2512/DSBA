{
  "nbformat": 4,
  "nbformat_minor": 0,
  "metadata": {
    "colab": {
      "name": "AML_Group_Project_Employee_Attrition.ipynb",
      "provenance": [],
      "include_colab_link": true
    },
    "kernelspec": {
      "name": "python3",
      "display_name": "Python 3"
    }
  },
  "cells": [
    {
      "cell_type": "markdown",
      "metadata": {
        "id": "view-in-github",
        "colab_type": "text"
      },
      "source": [
        "<a href=\"https://colab.research.google.com/github/ganesh2512/DSBA/blob/master/AML_Group_Project_Employee_Attrition.ipynb\" target=\"_parent\"><img src=\"https://colab.research.google.com/assets/colab-badge.svg\" alt=\"Open In Colab\"/></a>"
      ]
    },
    {
      "cell_type": "code",
      "metadata": {
        "id": "9FZSEZq2gjUI"
      },
      "source": [
        "import pandas as pd"
      ],
      "execution_count": null,
      "outputs": []
    },
    {
      "cell_type": "code",
      "metadata": {
        "id": "vILxwPsmgjb-"
      },
      "source": [
        "data = pd.read_csv('/content/DR_Demo_Employee_Attrition.csv')"
      ],
      "execution_count": null,
      "outputs": []
    },
    {
      "cell_type": "code",
      "metadata": {
        "colab": {
          "base_uri": "https://localhost:8080/",
          "height": 204
        },
        "id": "oXqXoglagjew",
        "outputId": "79b5e784-16ee-42f5-f1ef-b67bf77228ce"
      },
      "source": [
        "#keepling only the neccessary columns\n",
        "data_performance_review = data[['performance_review']]\n",
        "data_performance_review.head(5)"
      ],
      "execution_count": null,
      "outputs": [
        {
          "output_type": "execute_result",
          "data": {
            "text/html": [
              "<div>\n",
              "<style scoped>\n",
              "    .dataframe tbody tr th:only-of-type {\n",
              "        vertical-align: middle;\n",
              "    }\n",
              "\n",
              "    .dataframe tbody tr th {\n",
              "        vertical-align: top;\n",
              "    }\n",
              "\n",
              "    .dataframe thead th {\n",
              "        text-align: right;\n",
              "    }\n",
              "</style>\n",
              "<table border=\"1\" class=\"dataframe\">\n",
              "  <thead>\n",
              "    <tr style=\"text-align: right;\">\n",
              "      <th></th>\n",
              "      <th>performance_review</th>\n",
              "    </tr>\n",
              "  </thead>\n",
              "  <tbody>\n",
              "    <tr>\n",
              "      <th>0</th>\n",
              "      <td>Teamwork     Satisfactory he gives candid, con...</td>\n",
              "    </tr>\n",
              "    <tr>\n",
              "      <th>1</th>\n",
              "      <td>\\rTeamwork         Exceeds requirements\\rHe gi...</td>\n",
              "    </tr>\n",
              "    <tr>\n",
              "      <th>2</th>\n",
              "      <td>Cooperation              Meets requirements\\rS...</td>\n",
              "    </tr>\n",
              "    <tr>\n",
              "      <th>3</th>\n",
              "      <td>Problem Solving          Satisfactory\\rhe rout...</td>\n",
              "    </tr>\n",
              "    <tr>\n",
              "      <th>4</th>\n",
              "      <td>Goals: Goal: Incorporate Team Members Category...</td>\n",
              "    </tr>\n",
              "  </tbody>\n",
              "</table>\n",
              "</div>"
            ],
            "text/plain": [
              "                                  performance_review\n",
              "0  Teamwork     Satisfactory he gives candid, con...\n",
              "1  \\rTeamwork         Exceeds requirements\\rHe gi...\n",
              "2  Cooperation              Meets requirements\\rS...\n",
              "3  Problem Solving          Satisfactory\\rhe rout...\n",
              "4  Goals: Goal: Incorporate Team Members Category..."
            ]
          },
          "metadata": {
            "tags": []
          },
          "execution_count": 3
        }
      ]
    },
    {
      "cell_type": "code",
      "metadata": {
        "colab": {
          "base_uri": "https://localhost:8080/"
        },
        "id": "WPLz7yzwgjhX",
        "outputId": "5948aba5-a770-40d6-a7cf-3973f826234c"
      },
      "source": [
        "#check the length of the document\n",
        "len(data_performance_review)"
      ],
      "execution_count": null,
      "outputs": [
        {
          "output_type": "execute_result",
          "data": {
            "text/plain": [
              "5740"
            ]
          },
          "metadata": {
            "tags": []
          },
          "execution_count": 4
        }
      ]
    },
    {
      "cell_type": "code",
      "metadata": {
        "colab": {
          "base_uri": "https://localhost:8080/"
        },
        "id": "1KQ4JgZwlHfj",
        "outputId": "f8512e5f-f3ff-4cdb-98b8-3a86ef57a255"
      },
      "source": [
        "#drop na\n",
        "data_performance_review = data_performance_review.dropna()\n",
        "len(data_performance_review)"
      ],
      "execution_count": null,
      "outputs": [
        {
          "output_type": "execute_result",
          "data": {
            "text/plain": [
              "5740"
            ]
          },
          "metadata": {
            "tags": []
          },
          "execution_count": 5
        }
      ]
    },
    {
      "cell_type": "code",
      "metadata": {
        "id": "ESrSFbJap8q4"
      },
      "source": [
        "#change performance_review to str\n",
        "data_performance_review['performance_review'] = data_performance_review['performance_review'].astype(str)"
      ],
      "execution_count": null,
      "outputs": []
    },
    {
      "cell_type": "code",
      "metadata": {
        "colab": {
          "base_uri": "https://localhost:8080/"
        },
        "id": "ik-VaW6Dp8tQ",
        "outputId": "a0b6f8b5-2bd4-4e0d-f61e-8a762cfdbb0a"
      },
      "source": [
        "#lower case\n",
        "data_performance_review['performance_review'] = data_performance_review['performance_review'].str.lower()\n",
        "data_performance_review['performance_review'].head(5)"
      ],
      "execution_count": null,
      "outputs": [
        {
          "output_type": "execute_result",
          "data": {
            "text/plain": [
              "0    teamwork     satisfactory he gives candid, con...\n",
              "1    \\rteamwork         exceeds requirements\\rhe gi...\n",
              "2    cooperation              meets requirements\\rs...\n",
              "3    problem solving          satisfactory\\rhe rout...\n",
              "4    goals: goal: incorporate team members category...\n",
              "Name: performance_review, dtype: object"
            ]
          },
          "metadata": {
            "tags": []
          },
          "execution_count": 7
        }
      ]
    },
    {
      "cell_type": "code",
      "metadata": {
        "colab": {
          "base_uri": "https://localhost:8080/",
          "height": 35
        },
        "id": "YHs7FW3dp8vn",
        "outputId": "109e99dd-f472-4e8d-9ce4-f1b19434ac3e"
      },
      "source": [
        "#remove punctuations\n",
        "import string\n",
        "punct_to_remove = string.punctuation\n",
        "punct_to_remove"
      ],
      "execution_count": null,
      "outputs": [
        {
          "output_type": "execute_result",
          "data": {
            "application/vnd.google.colaboratory.intrinsic+json": {
              "type": "string"
            },
            "text/plain": [
              "'!\"#$%&\\'()*+,-./:;<=>?@[\\\\]^_`{|}~'"
            ]
          },
          "metadata": {
            "tags": []
          },
          "execution_count": 8
        }
      ]
    },
    {
      "cell_type": "code",
      "metadata": {
        "id": "rHJAf_E7p8x5"
      },
      "source": [
        "def remove_punctuation(text):\n",
        "    \"\"\"custom function to remove the punctuation\"\"\"\n",
        "    return text.translate(str.maketrans('', '', punct_to_remove))"
      ],
      "execution_count": null,
      "outputs": []
    },
    {
      "cell_type": "code",
      "metadata": {
        "colab": {
          "base_uri": "https://localhost:8080/",
          "height": 204
        },
        "id": "9Wof6q6op80A",
        "outputId": "3eb123cc-d210-4423-ed39-72890f0c532a"
      },
      "source": [
        "data_performance_review[\"text_wo_punct\"] = data_performance_review['performance_review'].apply(lambda text: remove_punctuation(text))\n",
        "data_performance_review.head()"
      ],
      "execution_count": null,
      "outputs": [
        {
          "output_type": "execute_result",
          "data": {
            "text/html": [
              "<div>\n",
              "<style scoped>\n",
              "    .dataframe tbody tr th:only-of-type {\n",
              "        vertical-align: middle;\n",
              "    }\n",
              "\n",
              "    .dataframe tbody tr th {\n",
              "        vertical-align: top;\n",
              "    }\n",
              "\n",
              "    .dataframe thead th {\n",
              "        text-align: right;\n",
              "    }\n",
              "</style>\n",
              "<table border=\"1\" class=\"dataframe\">\n",
              "  <thead>\n",
              "    <tr style=\"text-align: right;\">\n",
              "      <th></th>\n",
              "      <th>performance_review</th>\n",
              "      <th>text_wo_punct</th>\n",
              "    </tr>\n",
              "  </thead>\n",
              "  <tbody>\n",
              "    <tr>\n",
              "      <th>0</th>\n",
              "      <td>teamwork     satisfactory he gives candid, con...</td>\n",
              "      <td>teamwork     satisfactory he gives candid cons...</td>\n",
              "    </tr>\n",
              "    <tr>\n",
              "      <th>1</th>\n",
              "      <td>\\rteamwork         exceeds requirements\\rhe gi...</td>\n",
              "      <td>\\rteamwork         exceeds requirements\\rhe gi...</td>\n",
              "    </tr>\n",
              "    <tr>\n",
              "      <th>2</th>\n",
              "      <td>cooperation              meets requirements\\rs...</td>\n",
              "      <td>cooperation              meets requirements\\rs...</td>\n",
              "    </tr>\n",
              "    <tr>\n",
              "      <th>3</th>\n",
              "      <td>problem solving          satisfactory\\rhe rout...</td>\n",
              "      <td>problem solving          satisfactory\\rhe rout...</td>\n",
              "    </tr>\n",
              "    <tr>\n",
              "      <th>4</th>\n",
              "      <td>goals: goal: incorporate team members category...</td>\n",
              "      <td>goals goal incorporate team members category p...</td>\n",
              "    </tr>\n",
              "  </tbody>\n",
              "</table>\n",
              "</div>"
            ],
            "text/plain": [
              "                                  performance_review                                      text_wo_punct\n",
              "0  teamwork     satisfactory he gives candid, con...  teamwork     satisfactory he gives candid cons...\n",
              "1  \\rteamwork         exceeds requirements\\rhe gi...  \\rteamwork         exceeds requirements\\rhe gi...\n",
              "2  cooperation              meets requirements\\rs...  cooperation              meets requirements\\rs...\n",
              "3  problem solving          satisfactory\\rhe rout...  problem solving          satisfactory\\rhe rout...\n",
              "4  goals: goal: incorporate team members category...  goals goal incorporate team members category p..."
            ]
          },
          "metadata": {
            "tags": []
          },
          "execution_count": 10
        }
      ]
    },
    {
      "cell_type": "code",
      "metadata": {
        "id": "k0co-Bzop82N"
      },
      "source": [
        "#remove stopwords"
      ],
      "execution_count": null,
      "outputs": []
    },
    {
      "cell_type": "code",
      "metadata": {
        "colab": {
          "base_uri": "https://localhost:8080/"
        },
        "id": "ffXRfd9qp84e",
        "outputId": "c98f3271-f840-4367-f21a-5b8a65e8d068"
      },
      "source": [
        "import nltk\n",
        "nltk.download('stopwords')\n",
        "from nltk.corpus import stopwords\n"
      ],
      "execution_count": null,
      "outputs": [
        {
          "output_type": "stream",
          "text": [
            "[nltk_data] Downloading package stopwords to /root/nltk_data...\n",
            "[nltk_data]   Package stopwords is already up-to-date!\n"
          ],
          "name": "stdout"
        }
      ]
    },
    {
      "cell_type": "code",
      "metadata": {
        "id": "J8ClUVaFw8Rj"
      },
      "source": [
        "stop_words = set(stopwords.words('english'))  "
      ],
      "execution_count": null,
      "outputs": []
    },
    {
      "cell_type": "code",
      "metadata": {
        "colab": {
          "base_uri": "https://localhost:8080/"
        },
        "id": "H6CTb4Tuw8UJ",
        "outputId": "d61114ed-430c-4b75-a666-0841773e977c"
      },
      "source": [
        "print(stopwords.words('english'))"
      ],
      "execution_count": null,
      "outputs": [
        {
          "output_type": "stream",
          "text": [
            "['i', 'me', 'my', 'myself', 'we', 'our', 'ours', 'ourselves', 'you', \"you're\", \"you've\", \"you'll\", \"you'd\", 'your', 'yours', 'yourself', 'yourselves', 'he', 'him', 'his', 'himself', 'she', \"she's\", 'her', 'hers', 'herself', 'it', \"it's\", 'its', 'itself', 'they', 'them', 'their', 'theirs', 'themselves', 'what', 'which', 'who', 'whom', 'this', 'that', \"that'll\", 'these', 'those', 'am', 'is', 'are', 'was', 'were', 'be', 'been', 'being', 'have', 'has', 'had', 'having', 'do', 'does', 'did', 'doing', 'a', 'an', 'the', 'and', 'but', 'if', 'or', 'because', 'as', 'until', 'while', 'of', 'at', 'by', 'for', 'with', 'about', 'against', 'between', 'into', 'through', 'during', 'before', 'after', 'above', 'below', 'to', 'from', 'up', 'down', 'in', 'out', 'on', 'off', 'over', 'under', 'again', 'further', 'then', 'once', 'here', 'there', 'when', 'where', 'why', 'how', 'all', 'any', 'both', 'each', 'few', 'more', 'most', 'other', 'some', 'such', 'no', 'nor', 'not', 'only', 'own', 'same', 'so', 'than', 'too', 'very', 's', 't', 'can', 'will', 'just', 'don', \"don't\", 'should', \"should've\", 'now', 'd', 'll', 'm', 'o', 're', 've', 'y', 'ain', 'aren', \"aren't\", 'couldn', \"couldn't\", 'didn', \"didn't\", 'doesn', \"doesn't\", 'hadn', \"hadn't\", 'hasn', \"hasn't\", 'haven', \"haven't\", 'isn', \"isn't\", 'ma', 'mightn', \"mightn't\", 'mustn', \"mustn't\", 'needn', \"needn't\", 'shan', \"shan't\", 'shouldn', \"shouldn't\", 'wasn', \"wasn't\", 'weren', \"weren't\", 'won', \"won't\", 'wouldn', \"wouldn't\"]\n"
          ],
          "name": "stdout"
        }
      ]
    },
    {
      "cell_type": "code",
      "metadata": {
        "id": "QfDEfvSUywCf"
      },
      "source": [
        "STOPWORDS = set(stopwords.words('english'))"
      ],
      "execution_count": null,
      "outputs": []
    },
    {
      "cell_type": "code",
      "metadata": {
        "colab": {
          "base_uri": "https://localhost:8080/",
          "height": 204
        },
        "id": "398WMneLw8W7",
        "outputId": "87e2c0cd-f153-4dac-8ea1-dd1800787bfe"
      },
      "source": [
        "def remove_stopwords(text):\n",
        "    \"\"\"custom function to remove the stopwords\"\"\"\n",
        "    return \" \".join([word for word in str(text).split() if word not in STOPWORDS])\n",
        "\n",
        "data_performance_review[\"text_wo_stop\"] = data_performance_review[\"text_wo_punct\"].apply(lambda text: remove_stopwords(text))\n",
        "data_performance_review.head()"
      ],
      "execution_count": null,
      "outputs": [
        {
          "output_type": "execute_result",
          "data": {
            "text/html": [
              "<div>\n",
              "<style scoped>\n",
              "    .dataframe tbody tr th:only-of-type {\n",
              "        vertical-align: middle;\n",
              "    }\n",
              "\n",
              "    .dataframe tbody tr th {\n",
              "        vertical-align: top;\n",
              "    }\n",
              "\n",
              "    .dataframe thead th {\n",
              "        text-align: right;\n",
              "    }\n",
              "</style>\n",
              "<table border=\"1\" class=\"dataframe\">\n",
              "  <thead>\n",
              "    <tr style=\"text-align: right;\">\n",
              "      <th></th>\n",
              "      <th>performance_review</th>\n",
              "      <th>text_wo_punct</th>\n",
              "      <th>text_wo_stop</th>\n",
              "    </tr>\n",
              "  </thead>\n",
              "  <tbody>\n",
              "    <tr>\n",
              "      <th>0</th>\n",
              "      <td>teamwork     satisfactory he gives candid, con...</td>\n",
              "      <td>teamwork     satisfactory he gives candid cons...</td>\n",
              "      <td>teamwork satisfactory gives candid constructiv...</td>\n",
              "    </tr>\n",
              "    <tr>\n",
              "      <th>1</th>\n",
              "      <td>\\rteamwork         exceeds requirements\\rhe gi...</td>\n",
              "      <td>\\rteamwork         exceeds requirements\\rhe gi...</td>\n",
              "      <td>teamwork exceeds requirements gives candid con...</td>\n",
              "    </tr>\n",
              "    <tr>\n",
              "      <th>2</th>\n",
              "      <td>cooperation              meets requirements\\rs...</td>\n",
              "      <td>cooperation              meets requirements\\rs...</td>\n",
              "      <td>cooperation meets requirements takes active ro...</td>\n",
              "    </tr>\n",
              "    <tr>\n",
              "      <th>3</th>\n",
              "      <td>problem solving          satisfactory\\rhe rout...</td>\n",
              "      <td>problem solving          satisfactory\\rhe rout...</td>\n",
              "      <td>problem solving satisfactory routinely researc...</td>\n",
              "    </tr>\n",
              "    <tr>\n",
              "      <th>4</th>\n",
              "      <td>goals: goal: incorporate team members category...</td>\n",
              "      <td>goals goal incorporate team members category p...</td>\n",
              "      <td>goals goal incorporate team members category p...</td>\n",
              "    </tr>\n",
              "  </tbody>\n",
              "</table>\n",
              "</div>"
            ],
            "text/plain": [
              "                                  performance_review  ...                                       text_wo_stop\n",
              "0  teamwork     satisfactory he gives candid, con...  ...  teamwork satisfactory gives candid constructiv...\n",
              "1  \\rteamwork         exceeds requirements\\rhe gi...  ...  teamwork exceeds requirements gives candid con...\n",
              "2  cooperation              meets requirements\\rs...  ...  cooperation meets requirements takes active ro...\n",
              "3  problem solving          satisfactory\\rhe rout...  ...  problem solving satisfactory routinely researc...\n",
              "4  goals: goal: incorporate team members category...  ...  goals goal incorporate team members category p...\n",
              "\n",
              "[5 rows x 3 columns]"
            ]
          },
          "metadata": {
            "tags": []
          },
          "execution_count": 16
        }
      ]
    },
    {
      "cell_type": "code",
      "metadata": {
        "id": "N2LjlW1cw8fy"
      },
      "source": [
        "#steming - example: gives to give\n",
        "from nltk.stem.porter import PorterStemmer\n",
        "data_performance_review.drop(['performance_review','text_wo_punct'], axis=1, inplace=True)"
      ],
      "execution_count": null,
      "outputs": []
    },
    {
      "cell_type": "code",
      "metadata": {
        "id": "EdwpcX2Ww8h_"
      },
      "source": [
        "stemmer = PorterStemmer()\n",
        "def stem_words(text):\n",
        "    return \" \".join([stemmer.stem(word) for word in text.split()])"
      ],
      "execution_count": null,
      "outputs": []
    },
    {
      "cell_type": "code",
      "metadata": {
        "colab": {
          "base_uri": "https://localhost:8080/",
          "height": 204
        },
        "id": "rPYw9jqC2hDh",
        "outputId": "c85c0079-fd5a-4243-d33e-99ebdbadd54d"
      },
      "source": [
        "data_performance_review[\"text_stemmed\"] = data_performance_review[\"text_wo_stop\"].apply(lambda text: stem_words(text))\n",
        "data_performance_review.head(5)"
      ],
      "execution_count": null,
      "outputs": [
        {
          "output_type": "execute_result",
          "data": {
            "text/html": [
              "<div>\n",
              "<style scoped>\n",
              "    .dataframe tbody tr th:only-of-type {\n",
              "        vertical-align: middle;\n",
              "    }\n",
              "\n",
              "    .dataframe tbody tr th {\n",
              "        vertical-align: top;\n",
              "    }\n",
              "\n",
              "    .dataframe thead th {\n",
              "        text-align: right;\n",
              "    }\n",
              "</style>\n",
              "<table border=\"1\" class=\"dataframe\">\n",
              "  <thead>\n",
              "    <tr style=\"text-align: right;\">\n",
              "      <th></th>\n",
              "      <th>text_wo_stop</th>\n",
              "      <th>text_stemmed</th>\n",
              "    </tr>\n",
              "  </thead>\n",
              "  <tbody>\n",
              "    <tr>\n",
              "      <th>0</th>\n",
              "      <td>teamwork satisfactory gives candid constructiv...</td>\n",
              "      <td>teamwork satisfactori give candid construct fe...</td>\n",
              "    </tr>\n",
              "    <tr>\n",
              "      <th>1</th>\n",
              "      <td>teamwork exceeds requirements gives candid con...</td>\n",
              "      <td>teamwork exce requir give candid construct fee...</td>\n",
              "    </tr>\n",
              "    <tr>\n",
              "      <th>2</th>\n",
              "      <td>cooperation meets requirements takes active ro...</td>\n",
              "      <td>cooper meet requir take activ role resolv conf...</td>\n",
              "    </tr>\n",
              "    <tr>\n",
              "      <th>3</th>\n",
              "      <td>problem solving satisfactory routinely researc...</td>\n",
              "      <td>problem solv satisfactori routin research opti...</td>\n",
              "    </tr>\n",
              "    <tr>\n",
              "      <th>4</th>\n",
              "      <td>goals goal incorporate team members category p...</td>\n",
              "      <td>goal goal incorpor team member categori plan o...</td>\n",
              "    </tr>\n",
              "  </tbody>\n",
              "</table>\n",
              "</div>"
            ],
            "text/plain": [
              "                                        text_wo_stop                                       text_stemmed\n",
              "0  teamwork satisfactory gives candid constructiv...  teamwork satisfactori give candid construct fe...\n",
              "1  teamwork exceeds requirements gives candid con...  teamwork exce requir give candid construct fee...\n",
              "2  cooperation meets requirements takes active ro...  cooper meet requir take activ role resolv conf...\n",
              "3  problem solving satisfactory routinely researc...  problem solv satisfactori routin research opti...\n",
              "4  goals goal incorporate team members category p...  goal goal incorpor team member categori plan o..."
            ]
          },
          "metadata": {
            "tags": []
          },
          "execution_count": 19
        }
      ]
    },
    {
      "cell_type": "code",
      "metadata": {
        "id": "l73IIyKC2hax"
      },
      "source": [
        "#lemmatization - example:running to run\n",
        "from nltk.stem import WordNetLemmatizer"
      ],
      "execution_count": null,
      "outputs": []
    },
    {
      "cell_type": "code",
      "metadata": {
        "id": "vr-UBB5o2hfo"
      },
      "source": [
        "lemmatizer = WordNetLemmatizer()\n",
        "def lemmatize_words(text):\n",
        "    return \" \".join([lemmatizer.lemmatize(word) for word in text.split()])"
      ],
      "execution_count": null,
      "outputs": []
    },
    {
      "cell_type": "code",
      "metadata": {
        "colab": {
          "base_uri": "https://localhost:8080/",
          "height": 204
        },
        "id": "aAPXQALs2hdz",
        "outputId": "60f9fab5-cc99-4dde-b4ac-9c2ec4a44166"
      },
      "source": [
        "data_performance_review[\"text_lemmatized\"] = data_performance_review[\"text_stemmed\"].apply(lambda text: lemmatize_words(text))\n",
        "data_performance_review.head(5)"
      ],
      "execution_count": null,
      "outputs": [
        {
          "output_type": "execute_result",
          "data": {
            "text/html": [
              "<div>\n",
              "<style scoped>\n",
              "    .dataframe tbody tr th:only-of-type {\n",
              "        vertical-align: middle;\n",
              "    }\n",
              "\n",
              "    .dataframe tbody tr th {\n",
              "        vertical-align: top;\n",
              "    }\n",
              "\n",
              "    .dataframe thead th {\n",
              "        text-align: right;\n",
              "    }\n",
              "</style>\n",
              "<table border=\"1\" class=\"dataframe\">\n",
              "  <thead>\n",
              "    <tr style=\"text-align: right;\">\n",
              "      <th></th>\n",
              "      <th>text_wo_stop</th>\n",
              "      <th>text_stemmed</th>\n",
              "      <th>text_lemmatized</th>\n",
              "    </tr>\n",
              "  </thead>\n",
              "  <tbody>\n",
              "    <tr>\n",
              "      <th>0</th>\n",
              "      <td>teamwork satisfactory gives candid constructiv...</td>\n",
              "      <td>teamwork satisfactori give candid construct fe...</td>\n",
              "      <td>teamwork satisfactori give candid construct fe...</td>\n",
              "    </tr>\n",
              "    <tr>\n",
              "      <th>1</th>\n",
              "      <td>teamwork exceeds requirements gives candid con...</td>\n",
              "      <td>teamwork exce requir give candid construct fee...</td>\n",
              "      <td>teamwork exce requir give candid construct fee...</td>\n",
              "    </tr>\n",
              "    <tr>\n",
              "      <th>2</th>\n",
              "      <td>cooperation meets requirements takes active ro...</td>\n",
              "      <td>cooper meet requir take activ role resolv conf...</td>\n",
              "      <td>cooper meet requir take activ role resolv conf...</td>\n",
              "    </tr>\n",
              "    <tr>\n",
              "      <th>3</th>\n",
              "      <td>problem solving satisfactory routinely researc...</td>\n",
              "      <td>problem solv satisfactori routin research opti...</td>\n",
              "      <td>problem solv satisfactori routin research opti...</td>\n",
              "    </tr>\n",
              "    <tr>\n",
              "      <th>4</th>\n",
              "      <td>goals goal incorporate team members category p...</td>\n",
              "      <td>goal goal incorpor team member categori plan o...</td>\n",
              "      <td>goal goal incorpor team member categori plan o...</td>\n",
              "    </tr>\n",
              "  </tbody>\n",
              "</table>\n",
              "</div>"
            ],
            "text/plain": [
              "                                        text_wo_stop  ...                                    text_lemmatized\n",
              "0  teamwork satisfactory gives candid constructiv...  ...  teamwork satisfactori give candid construct fe...\n",
              "1  teamwork exceeds requirements gives candid con...  ...  teamwork exce requir give candid construct fee...\n",
              "2  cooperation meets requirements takes active ro...  ...  cooper meet requir take activ role resolv conf...\n",
              "3  problem solving satisfactory routinely researc...  ...  problem solv satisfactori routin research opti...\n",
              "4  goals goal incorporate team members category p...  ...  goal goal incorpor team member categori plan o...\n",
              "\n",
              "[5 rows x 3 columns]"
            ]
          },
          "metadata": {
            "tags": []
          },
          "execution_count": 22
        }
      ]
    },
    {
      "cell_type": "code",
      "metadata": {
        "id": "1w-iT6Bu3a2e"
      },
      "source": [
        "#wordcloud\n",
        "import numpy as np\n",
        "from wordcloud import WordCloud"
      ],
      "execution_count": null,
      "outputs": []
    },
    {
      "cell_type": "code",
      "metadata": {
        "id": "o87vpIxe3bgm"
      },
      "source": [
        "text = data_performance_review['text_lemmatized'].values \n",
        "wordcloud = WordCloud(width=1200, height=1200, max_words=200).generate(str(text))"
      ],
      "execution_count": null,
      "outputs": []
    },
    {
      "cell_type": "code",
      "metadata": {
        "colab": {
          "base_uri": "https://localhost:8080/",
          "height": 248
        },
        "id": "XC9XrC_33bjN",
        "outputId": "1edf8726-04bd-447a-a426-6bb847fb2220"
      },
      "source": [
        "import matplotlib.pyplot as plt\n",
        "plt.imshow(wordcloud, interpolation='bilinear')\n",
        "plt.axis(\"off\")\n",
        "plt.show()"
      ],
      "execution_count": null,
      "outputs": [
        {
          "output_type": "display_data",
          "data": {
            "image/png": "[encoded data removed]",
            "text/plain": [
              "<Figure size 432x288 with 1 Axes>"
            ]
          },
          "metadata": {
            "tags": [],
            "needs_background": "light"
          }
        }
      ]
    },
    {
      "cell_type": "code",
      "metadata": {
        "id": "Z0PkXeg43a6Y"
      },
      "source": [
        ""
      ],
      "execution_count": null,
      "outputs": []
    },
    {
      "cell_type": "code",
      "metadata": {
        "id": "OcmdvCdI3awf"
      },
      "source": [
        ""
      ],
      "execution_count": null,
      "outputs": []
    }
  ]
}